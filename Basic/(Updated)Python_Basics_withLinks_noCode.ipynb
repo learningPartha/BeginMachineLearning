{
 "cells": [
  {
   "cell_type": "markdown",
   "metadata": {
    "id": "X01f_sPwOnmX"
   },
   "source": [
    "<center><h1> Python Basics</h1></center>\n"
   ]
  },
  {
   "cell_type": "markdown",
   "metadata": {
    "id": "sAxrb2-DOwQ2"
   },
   "source": [
    "![image.png](https://pythonawesome.com/content/images/2019/09/Edward2.jpg)"
   ]
  },
  {
   "cell_type": "code",
   "execution_count": null,
   "metadata": {
    "colab": {
     "base_uri": "https://localhost:8080/",
     "height": 321
    },
    "id": "j6_2OG08Onmh",
    "outputId": "1fdf47f9-61f5-40f8-f1c2-fea6b87b5c88"
   },
   "outputs": [
    {
     "data": {
      "text/html": [
       "\n",
       "        <iframe\n",
       "            width=\"600\"\n",
       "            height=\"300\"\n",
       "            src=\"https://www.youtube.com/embed/https://www.youtube.com/watch?v=izgBmCnp1Oc&list=PLsR_0x6BuM-HJZT6Xzj-088N4hN3KsDME&index=1\"\n",
       "            frameborder=\"0\"\n",
       "            allowfullscreen\n",
       "        ></iframe>\n",
       "        "
      ],
      "text/plain": [
       "<IPython.lib.display.YouTubeVideo at 0x7efe85638790>"
      ]
     },
     "execution_count": 4,
     "metadata": {},
     "output_type": "execute_result"
    }
   ],
   "source": [
    "from IPython.display import YouTubeVideo\n",
    "YouTubeVideo('https://www.youtube.com/watch?v=izgBmCnp1Oc&list=PLsR_0x6BuM-HJZT6Xzj-088N4hN3KsDME&index=1',width=600,height=300)"
   ]
  },
  {
   "cell_type": "markdown",
   "metadata": {
    "id": "rw6fWHMFOnmj"
   },
   "source": [
    "Python is emerging as the popular language used more in data science applications.\n",
    "\n",
    "Take the case of the tech giant Google that has created the deep learning framework called tensorflow – Python is the primary language used for creating this framework. Its footprint has continued to increase in the environment promoted by Netflix. Production engineers at Facebook and Khan Academy have for long been using it as a prominent language in their environment.\n",
    "\n",
    "Python became the most popular language in the data science world.\n",
    "So what are you waiting for? Lets start learning python basic as your first assignment.\n",
    "\n",
    "\n",
    "Add-on Reference: https://youtu.be/HGOBQPFzWKo\n",
    "\n",
    "Add-on reference: https://youtu.be/8DvywoWv6fI\n",
    "\n",
    "\n",
    "## Variable declaration"
   ]
  },
  {
   "cell_type": "markdown",
   "metadata": {
    "id": "_B2hCySwOnmm"
   },
   "source": [
    "Covers the topic of variable declaration and type of variables\n",
    "\n",
    "<p style='text-align: right;'> 1+1+1+1+1 = 5 points</p>\n"
   ]
  },
  {
   "cell_type": "code",
   "execution_count": null,
   "metadata": {
    "colab": {
     "base_uri": "https://localhost:8080/",
     "height": 321
    },
    "id": "ixKyik4SQj1y",
    "outputId": "9909f016-7240-4b93-8c86-f4b80cf0464f"
   },
   "outputs": [
    {
     "data": {
      "text/html": [
       "\n",
       "        <iframe\n",
       "            width=\"600\"\n",
       "            height=\"300\"\n",
       "            src=\"https://www.youtube.com/embed/https://www.youtube.com/watch?v=YdDfEbaUPJs&list=PLsR_0x6BuM-HJZT6Xzj-088N4hN3KsDME&index=2\"\n",
       "            frameborder=\"0\"\n",
       "            allowfullscreen\n",
       "        ></iframe>\n",
       "        "
      ],
      "text/plain": [
       "<IPython.lib.display.YouTubeVideo at 0x7fc907f1fa50>"
      ]
     },
     "execution_count": 6,
     "metadata": {},
     "output_type": "execute_result"
    }
   ],
   "source": [
    "#1 Variables\n",
    "\n",
    "YouTubeVideo('https://www.youtube.com/watch?v=YdDfEbaUPJs&list=PLsR_0x6BuM-HJZT6Xzj-088N4hN3KsDME&index=2',width=600,height=300)"
   ]
  },
  {
   "cell_type": "code",
   "execution_count": null,
   "metadata": {
    "colab": {
     "base_uri": "https://localhost:8080/",
     "height": 321
    },
    "id": "UlSqi2TSQvgw",
    "outputId": "b0b3019b-ed2d-4abc-fc7d-6d7dac0cdbde"
   },
   "outputs": [
    {
     "data": {
      "text/html": [
       "\n",
       "        <iframe\n",
       "            width=\"600\"\n",
       "            height=\"300\"\n",
       "            src=\"https://www.youtube.com/embed/https://www.youtube.com/watch?v=gOcRxdGovhc&list=PLsR_0x6BuM-HJZT6Xzj-088N4hN3KsDME&index=3\"\n",
       "            frameborder=\"0\"\n",
       "            allowfullscreen\n",
       "        ></iframe>\n",
       "        "
      ],
      "text/plain": [
       "<IPython.lib.display.YouTubeVideo at 0x7fc907ea35d0>"
      ]
     },
     "execution_count": 7,
     "metadata": {},
     "output_type": "execute_result"
    }
   ],
   "source": [
    "#2 Variables\n",
    "\n",
    "YouTubeVideo('https://www.youtube.com/watch?v=gOcRxdGovhc&list=PLsR_0x6BuM-HJZT6Xzj-088N4hN3KsDME&index=3',width=600,height=300)"
   ]
  },
  {
   "cell_type": "code",
   "execution_count": 1,
   "metadata": {
    "id": "XgolDndUOnmn"
   },
   "outputs": [],
   "source": [
    "# declare two variables, a = 5, b = 'city'\n",
    "a = 5 # your code here\n",
    "b = 'city'# your code here"
   ]
  },
  {
   "cell_type": "code",
   "execution_count": 2,
   "metadata": {
    "colab": {
     "base_uri": "https://localhost:8080/"
    },
    "id": "0UNQOo-QOnmo",
    "outputId": "7f46fd0c-652e-4071-e349-308268524be9"
   },
   "outputs": [
    {
     "name": "stdout",
     "output_type": "stream",
     "text": [
      "<class 'int'>\n"
     ]
    }
   ],
   "source": [
    "# print type of a\n",
    "print(type(a))"
   ]
  },
  {
   "cell_type": "code",
   "execution_count": 3,
   "metadata": {
    "colab": {
     "base_uri": "https://localhost:8080/"
    },
    "id": "HvaV3dnoOnms",
    "outputId": "63c125b0-35fb-4a34-8548-dd5f4ff78b10"
   },
   "outputs": [
    {
     "name": "stdout",
     "output_type": "stream",
     "text": [
      "<class 'str'>\n"
     ]
    }
   ],
   "source": [
    "# print type of b\n",
    "print(type(b))"
   ]
  },
  {
   "cell_type": "code",
   "execution_count": 4,
   "metadata": {
    "id": "8fnWzilIOnmu"
   },
   "outputs": [],
   "source": [
    "# swap the values of a and b\n",
    "# hint, if a = 3 and b = \"cloudyML\" then u can swap values like this\n",
    "\"\"\"\n",
    "a = 3\n",
    "b = \"cloudyML\"\n",
    "temp = a # defined a temporary variable and store value of a in temp\n",
    "a = b # swap\n",
    "b = temp # give value of a stored in temp to b\n",
    "\"\"\"\n",
    "a = 3\n",
    "b = \"cloudyML\"\n",
    "temp = a # store in temp variable\n",
    "a = b # swap value\n",
    "b = temp # swap value from temp"
   ]
  },
  {
   "cell_type": "code",
   "execution_count": 5,
   "metadata": {
    "colab": {
     "base_uri": "https://localhost:8080/"
    },
    "id": "SWd_9g8YOnmv",
    "outputId": "40fa8635-1619-4101-a2af-5b3e4a0f854f"
   },
   "outputs": [
    {
     "name": "stdout",
     "output_type": "stream",
     "text": [
      "a= cloudyML\n",
      "b= 3\n"
     ]
    }
   ],
   "source": [
    "# run this to confirm \n",
    "print('a=',a)\n",
    "print('b=',b)"
   ]
  },
  {
   "cell_type": "markdown",
   "metadata": {
    "id": "jZxcxXV2Onmx"
   },
   "source": [
    "Cool! so variable declaration and getting it's type was easy."
   ]
  },
  {
   "cell_type": "code",
   "execution_count": null,
   "metadata": {
    "colab": {
     "base_uri": "https://localhost:8080/",
     "height": 321
    },
    "id": "iGEGIEOsRG4N",
    "outputId": "6ffa9eef-8db8-4b03-d5d3-ee2c76f541e0"
   },
   "outputs": [
    {
     "data": {
      "text/html": [
       "\n",
       "        <iframe\n",
       "            width=\"600\"\n",
       "            height=\"300\"\n",
       "            src=\"https://www.youtube.com/embed/https://www.youtube.com/watch?v=R0yDN07Jw_c&list=PLsR_0x6BuM-HJZT6Xzj-088N4hN3KsDME&index=4\"\n",
       "            frameborder=\"0\"\n",
       "            allowfullscreen\n",
       "        ></iframe>\n",
       "        "
      ],
      "text/plain": [
       "<IPython.lib.display.YouTubeVideo at 0x7fc907eec610>"
      ]
     },
     "execution_count": 13,
     "metadata": {},
     "output_type": "execute_result"
    }
   ],
   "source": [
    "#3 Data Structure\n",
    "\n",
    "YouTubeVideo('https://www.youtube.com/watch?v=R0yDN07Jw_c&list=PLsR_0x6BuM-HJZT6Xzj-088N4hN3KsDME&index=4',width=600,height=300)"
   ]
  },
  {
   "cell_type": "markdown",
   "metadata": {
    "id": "pDfT0V3IOnmx"
   },
   "source": [
    "## Arithmetic Operations"
   ]
  },
  {
   "cell_type": "markdown",
   "metadata": {
    "id": "s7I8ndJiOnmy"
   },
   "source": [
    "Hey novice! this will be easy for you until you know basic arithmetic symbols like +, -, /, * etc.\n",
    "\n",
    "\n",
    "<p style='text-align: right;'> 1 + 7 = 8 points </p>\n"
   ]
  },
  {
   "cell_type": "code",
   "execution_count": null,
   "metadata": {
    "colab": {
     "base_uri": "https://localhost:8080/",
     "height": 321
    },
    "id": "Gty2GGCgRXTF",
    "outputId": "5c2109a2-1043-4242-bd7e-ac65946e85a3"
   },
   "outputs": [
    {
     "data": {
      "text/html": [
       "\n",
       "        <iframe\n",
       "            width=\"600\"\n",
       "            height=\"300\"\n",
       "            src=\"https://www.youtube.com/embed/https://www.youtube.com/watch?v=kj-UnITecRE&list=PLsR_0x6BuM-HJZT6Xzj-088N4hN3KsDME&index=10\"\n",
       "            frameborder=\"0\"\n",
       "            allowfullscreen\n",
       "        ></iframe>\n",
       "        "
      ],
      "text/plain": [
       "<IPython.lib.display.YouTubeVideo at 0x7fc907f05cd0>"
      ]
     },
     "execution_count": 14,
     "metadata": {},
     "output_type": "execute_result"
    }
   ],
   "source": [
    "#4 Operators\n",
    "YouTubeVideo('https://www.youtube.com/watch?v=kj-UnITecRE&list=PLsR_0x6BuM-HJZT6Xzj-088N4hN3KsDME&index=10',width=600,height=300)"
   ]
  },
  {
   "cell_type": "code",
   "execution_count": 6,
   "metadata": {
    "colab": {
     "base_uri": "https://localhost:8080/"
    },
    "id": "GrGEajK2Onmz",
    "outputId": "e1cfe06c-730d-481c-d6a8-3a49e9ef03da"
   },
   "outputs": [
    {
     "name": "stdout",
     "output_type": "stream",
     "text": [
      "a = 24, b = 3\n"
     ]
    }
   ],
   "source": [
    "# declare two variables, a = 24, b = 3\n",
    "\n",
    "a = 24 # your code here\n",
    "b = 3 # your code here\n",
    "print('a = {}, b = {}'.format(a,b))"
   ]
  },
  {
   "cell_type": "code",
   "execution_count": 7,
   "metadata": {
    "colab": {
     "base_uri": "https://localhost:8080/"
    },
    "id": "diniCQx5Onm0",
    "outputId": "1500287b-7a45-438b-8168-74d26870f21d"
   },
   "outputs": [
    {
     "name": "stdout",
     "output_type": "stream",
     "text": [
      "a+b = 27\n"
     ]
    }
   ],
   "source": [
    "print('a+b = {}'.format(a+b))"
   ]
  },
  {
   "cell_type": "code",
   "execution_count": 8,
   "metadata": {
    "colab": {
     "base_uri": "https://localhost:8080/"
    },
    "id": "N_GYfccYOnm0",
    "outputId": "369cb090-8f5e-4fce-a632-0728660cc076"
   },
   "outputs": [
    {
     "name": "stdout",
     "output_type": "stream",
     "text": [
      "a+b = 27\n",
      "a-b = 21\n",
      "a*b = 72\n",
      "a/b = 8.0\n",
      "a%b = 0\n",
      "a//b = 8\n",
      "a^b = 27\n"
     ]
    }
   ],
   "source": [
    "# calculate and print all the possible numerical operations on a and b (There are total 7 operations)\n",
    "# You can use string formatting to get the exact output like ours.\n",
    "# hint: print(\"a + b = {}\".format(a+b))\n",
    "print('a+b = {}'.format(a+b))\n",
    "print('a-b = {}'.format(a-b))\n",
    "print('a*b = {}'.format(a*b))\n",
    "print('a/b = {}'.format(a/b))\n",
    "print('a%b = {}'.format(a%b))\n",
    "print('a//b = {}'.format(a//b))\n",
    "print('a^b = {}'.format(a^b))"
   ]
  },
  {
   "cell_type": "markdown",
   "metadata": {
    "id": "SnON_Kw9Onm1"
   },
   "source": [
    "## Math Functions"
   ]
  },
  {
   "cell_type": "markdown",
   "metadata": {
    "id": "1hTzZGrsOnm2"
   },
   "source": [
    "Lets do some simple mathematical operations by using math module. Math module contains various mathematical functions. So here we go!\n",
    "\n",
    "Additional Reference:- https://youtu.be/gktjNyV0xks\n",
    "\n",
    "Reference document: https://docs.python.org/3/library/math.html\n",
    "<p style='text-align: right;'> 10 points </p>\n",
    "\n",
    "\n"
   ]
  },
  {
   "cell_type": "code",
   "execution_count": 9,
   "metadata": {
    "id": "Y3odgoqgOnm2"
   },
   "outputs": [],
   "source": [
    "#import math\n",
    "import math"
   ]
  },
  {
   "cell_type": "code",
   "execution_count": 10,
   "metadata": {
    "id": "vVALGHwCOnm3"
   },
   "outputs": [],
   "source": [
    "# declare a variable x = 2 and y=5.32167\n",
    "x = 2 \n",
    "y=5.32167"
   ]
  },
  {
   "cell_type": "code",
   "execution_count": 11,
   "metadata": {
    "colab": {
     "base_uri": "https://localhost:8080/"
    },
    "id": "h9xFqnF7Onm3",
    "outputId": "3cfa7c1c-e47e-4b4f-92b8-d604b0e7ca0b"
   },
   "outputs": [
    {
     "name": "stdout",
     "output_type": "stream",
     "text": [
      "5.32167\n"
     ]
    }
   ],
   "source": [
    "# Print the maximum value between x and y\n",
    "print(max(x,y))"
   ]
  },
  {
   "cell_type": "code",
   "execution_count": 14,
   "metadata": {
    "colab": {
     "base_uri": "https://localhost:8080/"
    },
    "id": "Ek-Wrhb6Onm3",
    "outputId": "d990846a-df27-4078-8bee-271286294b76"
   },
   "outputs": [
    {
     "name": "stdout",
     "output_type": "stream",
     "text": [
      "2\n"
     ]
    }
   ],
   "source": [
    "# Print the minimum value between x and y\n",
    "print(min(x,y))"
   ]
  },
  {
   "cell_type": "code",
   "execution_count": 16,
   "metadata": {
    "colab": {
     "base_uri": "https://localhost:8080/"
    },
    "id": "NHK3kCGAOnm4",
    "outputId": "abde16f9-2ff6-4142-fb24-58bf9671419e"
   },
   "outputs": [
    {
     "name": "stdout",
     "output_type": "stream",
     "text": [
      "4\n",
      "8\n"
     ]
    }
   ],
   "source": [
    "# Print square and cube of x and store in a and b variable\n",
    "a=pow(x,2)\n",
    "b=pow(x,3)\n",
    "print(a)\n",
    "print(b)"
   ]
  },
  {
   "cell_type": "code",
   "execution_count": 19,
   "metadata": {
    "colab": {
     "base_uri": "https://localhost:8080/"
    },
    "id": "ARYINv9AOnm4",
    "outputId": "686a724b-c071-4bee-839d-1ec0fa93e8b2"
   },
   "outputs": [
    {
     "name": "stdout",
     "output_type": "stream",
     "text": [
      "0.6931471805599453\n"
     ]
    }
   ],
   "source": [
    "#print log of x and store it in variable c\n",
    "c=math.log(x)\n",
    "print(c)"
   ]
  },
  {
   "cell_type": "code",
   "execution_count": 20,
   "metadata": {
    "colab": {
     "base_uri": "https://localhost:8080/"
    },
    "id": "xGbjPCVfOnm5",
    "outputId": "52aa32fc-44b6-4b9a-ca0a-4f620594f972"
   },
   "outputs": [
    {
     "name": "stdout",
     "output_type": "stream",
     "text": [
      "0.6931471805599453\n"
     ]
    }
   ],
   "source": [
    "#print minimum value between x,y,a, b and c\n",
    "print(min(x,y,a,b,c))"
   ]
  },
  {
   "cell_type": "code",
   "execution_count": 21,
   "metadata": {
    "colab": {
     "base_uri": "https://localhost:8080/"
    },
    "id": "Cr2aOwOYOnm5",
    "outputId": "de3cc648-eb3c-4593-a2e5-84e9f875507c"
   },
   "outputs": [
    {
     "name": "stdout",
     "output_type": "stream",
     "text": [
      "8\n"
     ]
    }
   ],
   "source": [
    "#print maximum value between x,y,a, b and c\n",
    "print(max(x,y,a,b,c))"
   ]
  },
  {
   "cell_type": "code",
   "execution_count": 22,
   "metadata": {
    "colab": {
     "base_uri": "https://localhost:8080/"
    },
    "id": "cdTE9jHJOnm5",
    "outputId": "32bce6d3-5824-4969-c1f4-8308aed5e59b"
   },
   "outputs": [
    {
     "name": "stdout",
     "output_type": "stream",
     "text": [
      "0\n"
     ]
    }
   ],
   "source": [
    "#print the largest integer that is smaller than or equal to c. ie.round down\n",
    "print(math.floor(c))"
   ]
  },
  {
   "cell_type": "code",
   "execution_count": 23,
   "metadata": {
    "colab": {
     "base_uri": "https://localhost:8080/"
    },
    "id": "YuQFq6iTOnm6",
    "outputId": "e852e936-5715-4632-d5b5-7a46a6c6aa17",
    "scrolled": true
   },
   "outputs": [
    {
     "name": "stdout",
     "output_type": "stream",
     "text": [
      "1\n"
     ]
    }
   ],
   "source": [
    "#print the smallest integer that is greater than or equal to c ie. round up\n",
    "print(math.ceil(c))"
   ]
  },
  {
   "cell_type": "markdown",
   "metadata": {
    "id": "7ywGXy77Onm6"
   },
   "source": [
    "## Logical operations\n",
    "\n",
    "You must be aware of some logical operations you did in college, like 'and', 'or', 'not' etc. These operations becomes even more easy to implement when you have friend like python.\n",
    "\n",
    "<p style='text-align: right;'> 1 + 1 + 1 + 6 = 9 points </p>\n"
   ]
  },
  {
   "cell_type": "code",
   "execution_count": 24,
   "metadata": {
    "colab": {
     "base_uri": "https://localhost:8080/"
    },
    "id": "qD67cRQJOnm7",
    "outputId": "a9b2728d-fc6b-4c06-e031-a6537b7e3007"
   },
   "outputs": [
    {
     "name": "stdout",
     "output_type": "stream",
     "text": [
      "True\n",
      "False\n"
     ]
    }
   ],
   "source": [
    "# declare two variables, a = True, b = False\n",
    "a = True #your code here\n",
    "b = False #your code here\n",
    "print(a)\n",
    "print(b)\n"
   ]
  },
  {
   "cell_type": "code",
   "execution_count": 25,
   "metadata": {
    "colab": {
     "base_uri": "https://localhost:8080/"
    },
    "id": "f5Vs8qzjOnm7",
    "outputId": "6bd148d7-2af0-4645-9b4f-94f5dcbc962e"
   },
   "outputs": [
    {
     "name": "stdout",
     "output_type": "stream",
     "text": [
      "<class 'bool'>\n",
      "<class 'bool'>\n"
     ]
    }
   ],
   "source": [
    "# print type of a and type of b\n",
    "print(type(a))\n",
    "print(type(b))"
   ]
  },
  {
   "cell_type": "markdown",
   "metadata": {
    "id": "c3_XIcPkOnm7"
   },
   "source": [
    "A fun fact for you !\n",
    "The Python Boolean type is one of Python's built-in data types. It's used to represent the truth value of an expression"
   ]
  },
  {
   "cell_type": "code",
   "execution_count": 28,
   "metadata": {
    "colab": {
     "base_uri": "https://localhost:8080/"
    },
    "id": "lCruZY6_Onm8",
    "outputId": "dd3a08e3-ac92-4499-e0f5-875c3d9294e9"
   },
   "outputs": [
    {
     "name": "stdout",
     "output_type": "stream",
     "text": [
      "integer value of a = 1\n",
      "integer value of b =0\n"
     ]
    }
   ],
   "source": [
    "# print int(a) and int(b)\n",
    "print('integer value of a = {}'.format(int(a)))\n",
    "print('integer value of b ={}'.format(int(b)))"
   ]
  },
  {
   "cell_type": "markdown",
   "metadata": {
    "id": "y2pKlWHBOnm8"
   },
   "source": [
    "We are sure you must have seen that, values for 'True' is 1 and for 'False' is 0."
   ]
  },
  {
   "cell_type": "code",
   "execution_count": 30,
   "metadata": {
    "colab": {
     "base_uri": "https://localhost:8080/"
    },
    "id": "IEuVTnsAOnm8",
    "outputId": "5d64cdc9-1b50-49b2-beb7-56aad691b0de"
   },
   "outputs": [
    {
     "name": "stdout",
     "output_type": "stream",
     "text": [
      "not a = False\n",
      "not b = True\n",
      "a and b = False\n",
      "a or b = True\n",
      "a and not b = True\n"
     ]
    }
   ],
   "source": [
    "# Find and print the values of not a, not b, a and b, a or b, a and not b\n",
    "# Use not operator for not a and not b\n",
    "print('not a = {}'.format(not(a)))\n",
    "print('not b = {}'.format(not(b)))\n",
    "print('a and b = {}'.format(a and b))\n",
    "print('a or b = {}'.format(a or b))\n",
    "print('a and not b = {}'.format(a and not(b)))"
   ]
  },
  {
   "cell_type": "markdown",
   "metadata": {
    "id": "TI7-60doOnm9"
   },
   "source": [
    "We hope you tried to undertand the above output! "
   ]
  },
  {
   "cell_type": "markdown",
   "metadata": {
    "id": "Ngtt9xc6Onm9"
   },
   "source": [
    "## List Comprehensions\n",
    "\n",
    "Hey buddy! Python has really amazing thing called list comprehension. List comprehension offers a shorter syntax when you want to create a new list based on the values of an existing list. Cool right? Let's dive into this more by doing it. \n",
    "\n",
    "<p style='text-align: right;'> 10 + 10 + 10= 30 points </p>\n",
    "\n"
   ]
  },
  {
   "cell_type": "code",
   "execution_count": null,
   "metadata": {
    "colab": {
     "base_uri": "https://localhost:8080/",
     "height": 321
    },
    "id": "A7MBHOJVSGFV",
    "outputId": "a61aa7d1-b708-46b0-afac-4675b3ad286f"
   },
   "outputs": [
    {
     "data": {
      "text/html": [
       "\n",
       "        <iframe\n",
       "            width=\"600\"\n",
       "            height=\"300\"\n",
       "            src=\"https://www.youtube.com/embed/https://www.youtube.com/watch?v=Cs8wG--s4z4&list=PLsR_0x6BuM-HJZT6Xzj-088N4hN3KsDME&index=17\"\n",
       "            frameborder=\"0\"\n",
       "            allowfullscreen\n",
       "        ></iframe>\n",
       "        "
      ],
      "text/plain": [
       "<IPython.lib.display.YouTubeVideo at 0x7efe855f1e50>"
      ]
     },
     "execution_count": 5,
     "metadata": {},
     "output_type": "execute_result"
    }
   ],
   "source": [
    "# Comprehension\n",
    "YouTubeVideo('https://www.youtube.com/watch?v=Cs8wG--s4z4&list=PLsR_0x6BuM-HJZT6Xzj-088N4hN3KsDME&index=17',width=600,height=300)"
   ]
  },
  {
   "cell_type": "code",
   "execution_count": 31,
   "metadata": {
    "colab": {
     "base_uri": "https://localhost:8080/"
    },
    "id": "EFQZLhkDOnm9",
    "outputId": "2f5169f0-387b-44ee-a8cc-a58078062dd9"
   },
   "outputs": [
    {
     "name": "stdout",
     "output_type": "stream",
     "text": [
      "[1, 2, 3, 4, 5, 6, 7, 8, 9, 10, 11, 12, 13, 14, 15, 16, 17, 18, 19]\n"
     ]
    }
   ],
   "source": [
    "# Using list comprehension, create a list containing numbers from 1 to 20. \n",
    "# Hint: You can use range function of python to do this.\n",
    "list_num = [i for i in range(1,20)]\n",
    "print(list_num)"
   ]
  },
  {
   "cell_type": "code",
   "execution_count": 32,
   "metadata": {
    "colab": {
     "base_uri": "https://localhost:8080/"
    },
    "id": "3fZ8aOSyOnm9",
    "outputId": "a82613e0-1ef0-4dc7-adef-45e25e7a747b"
   },
   "outputs": [
    {
     "name": "stdout",
     "output_type": "stream",
     "text": [
      "[2, 4, 6, 8, 10, 12, 14, 16, 18]\n"
     ]
    }
   ],
   "source": [
    "# Using list comprehension, create a list containing numbers from 1 to 20 that are even\n",
    "list_even = [i for i in range(1,20) if i%2==0]\n",
    "print(list_even)"
   ]
  },
  {
   "cell_type": "markdown",
   "metadata": {
    "id": "Nom_UZdsOnm-"
   },
   "source": [
    "Create a list of all the fruits you like. Using list comprehension, create another list which contains the total number of charachters for each corresponding fruits.\n",
    "- Eg. fruits = [‘apple’,’kiwi’,’orange’], then output would be - [5,4,6]\n"
   ]
  },
  {
   "cell_type": "code",
   "execution_count": 33,
   "metadata": {
    "colab": {
     "base_uri": "https://localhost:8080/"
    },
    "id": "qgTZeieSOnm-",
    "outputId": "dab7c09a-7bdd-4949-8ee8-f11ff3de3d3b"
   },
   "outputs": [
    {
     "name": "stdout",
     "output_type": "stream",
     "text": [
      "['mango', 'apple', 'banana', 'vimal', 'orange']\n",
      "[5, 5, 6, 5, 6]\n"
     ]
    }
   ],
   "source": [
    "fruits = ['mango', 'apple', 'banana', 'vimal', 'orange']# your code here (create a list of your favourite fruits)\n",
    "len_fruits = [len(i) for i in fruits] # your code here\n",
    "\n",
    "print(fruits)\n",
    "print(len_fruits)\n"
   ]
  },
  {
   "cell_type": "markdown",
   "metadata": {
    "id": "EmUChdf-Onm-"
   },
   "source": [
    "The above output is shown if fruits = ['apple','kiwi,'orange'], it can vary for different values of fruits\n",
    "\n",
    "Amazing right?\n"
   ]
  },
  {
   "cell_type": "markdown",
   "metadata": {
    "id": "wPzfKH4vOnm_"
   },
   "source": [
    "## String value and operators\n",
    "\n",
    "<p style='text-align: right;'> 1 + 1 + 1 + 1 + 1 = 5 points </p>\n"
   ]
  },
  {
   "cell_type": "code",
   "execution_count": null,
   "metadata": {
    "colab": {
     "base_uri": "https://localhost:8080/",
     "height": 321
    },
    "id": "JkGT52I9Onm_",
    "outputId": "58b05e98-fbc1-4427-a516-7ee18e2e359e"
   },
   "outputs": [
    {
     "data": {
      "text/html": [
       "\n",
       "        <iframe\n",
       "            width=\"600\"\n",
       "            height=\"300\"\n",
       "            src=\"https://www.youtube.com/embed/https://www.youtube.com/watch?v=I6UH_prRboE&list=PLsR_0x6BuM-HJZT6Xzj-088N4hN3KsDME&index=9\"\n",
       "            frameborder=\"0\"\n",
       "            allowfullscreen\n",
       "        ></iframe>\n",
       "        "
      ],
      "text/plain": [
       "<IPython.lib.display.YouTubeVideo at 0x7efe85171690>"
      ]
     },
     "execution_count": 6,
     "metadata": {},
     "output_type": "execute_result"
    }
   ],
   "source": [
    "# string manipulation\n",
    "YouTubeVideo('https://www.youtube.com/watch?v=I6UH_prRboE&list=PLsR_0x6BuM-HJZT6Xzj-088N4hN3KsDME&index=9',width=600,height=300)"
   ]
  },
  {
   "cell_type": "markdown",
   "metadata": {
    "id": "Ee_vso2gOnm_"
   },
   "source": [
    "### Characters in strings\n",
    "\n",
    "\n",
    "Reference:- https://www.programiz.com/python-programming/string\n",
    "\n"
   ]
  },
  {
   "cell_type": "code",
   "execution_count": 34,
   "metadata": {
    "colab": {
     "base_uri": "https://localhost:8080/"
    },
    "id": "3SeJY_uNOnm_",
    "outputId": "1f8d2238-d57c-401c-94c6-a0c19c86549a"
   },
   "outputs": [
    {
     "name": "stdout",
     "output_type": "stream",
     "text": [
      "cat\n",
      "dog\n"
     ]
    }
   ],
   "source": [
    "# declare the variables x = cat and y = dog and print it\n",
    "x = \"cat\" #your code here\n",
    "y = \"dog\" #your code here\n",
    "\n",
    "print(x)\n",
    "print(y)"
   ]
  },
  {
   "cell_type": "code",
   "execution_count": 35,
   "metadata": {
    "colab": {
     "base_uri": "https://localhost:8080/"
    },
    "id": "J6WM2PYhOnm_",
    "outputId": "514c8a28-4476-467f-d520-077f0aa8ad99"
   },
   "outputs": [
    {
     "name": "stdout",
     "output_type": "stream",
     "text": [
      "First ch of x = c\n",
      "First ch of y = d\n"
     ]
    }
   ],
   "source": [
    "#Print first character of both x and y. \n",
    "print('First ch of x = {}'.format(x[0]))\n",
    "print('First ch of y = {}'.format(y[0]))"
   ]
  },
  {
   "cell_type": "code",
   "execution_count": 36,
   "metadata": {
    "colab": {
     "base_uri": "https://localhost:8080/"
    },
    "id": "T4cyd2QJOnnA",
    "outputId": "12d6e971-5f16-4874-b7a7-b23cf7c82bb1"
   },
   "outputs": [
    {
     "name": "stdout",
     "output_type": "stream",
     "text": [
      "Last ch of x = t\n",
      "Last ch of y = g\n"
     ]
    }
   ],
   "source": [
    "#Print last character of both x and y.\n",
    "print('Last ch of x = {}'.format(x[-1]))\n",
    "print('Last ch of y = {}'.format(y[-1]))"
   ]
  },
  {
   "cell_type": "code",
   "execution_count": 37,
   "metadata": {
    "colab": {
     "base_uri": "https://localhost:8080/"
    },
    "id": "jWHyH2o7OnnA",
    "outputId": "1db5da7b-73c6-4836-94db-455a8c69430e"
   },
   "outputs": [
    {
     "name": "stdout",
     "output_type": "stream",
     "text": [
      "Length of x is = 3\n",
      "Length of y is = 3\n"
     ]
    }
   ],
   "source": [
    "#Print len of both x and y\n",
    "print('Length of x is = {}'.format(len(x)))\n",
    "print('Length of y is = {}'.format(len(y)))"
   ]
  },
  {
   "cell_type": "code",
   "execution_count": 38,
   "metadata": {
    "colab": {
     "base_uri": "https://localhost:8080/"
    },
    "id": "wcu4u4ZdOnnA",
    "outputId": "93d5653f-3c36-4016-ac0c-3f904043ac16"
   },
   "outputs": [
    {
     "name": "stdout",
     "output_type": "stream",
     "text": [
      "catdog\n"
     ]
    }
   ],
   "source": [
    "#concatenate both x and y and store it in variable z and print z\n",
    "z = x+y\n",
    "print(z)"
   ]
  },
  {
   "cell_type": "code",
   "execution_count": 39,
   "metadata": {
    "colab": {
     "base_uri": "https://localhost:8080/"
    },
    "id": "gfbQ0ahAOnnA",
    "outputId": "f96fc941-8835-4fec-853d-a96967136728"
   },
   "outputs": [
    {
     "name": "stdout",
     "output_type": "stream",
     "text": [
      "True\n"
     ]
    }
   ],
   "source": [
    "#check if x is part of z \n",
    "print(x in z)"
   ]
  },
  {
   "cell_type": "markdown",
   "metadata": {
    "id": "lVchUi7YOnnB"
   },
   "source": [
    "### String slicing\n",
    "\n",
    "\n",
    "\n",
    "Hey coder, do you know? Python slicing is about obtaining a sub-string from the given string by slicing it respectively from start to end\n",
    "\n",
    "So be ready to implement it today!\n",
    "<p style='text-align: right;'> 2 points </p>"
   ]
  },
  {
   "cell_type": "code",
   "execution_count": 40,
   "metadata": {
    "colab": {
     "base_uri": "https://localhost:8080/"
    },
    "id": "VPiDEDDTOnnB",
    "outputId": "0c3d5fa2-8c5e-4f64-d7e9-45eb819e8081"
   },
   "outputs": [
    {
     "name": "stdout",
     "output_type": "stream",
     "text": [
      "pineapple\n"
     ]
    }
   ],
   "source": [
    "#Create variable a = “pineapple”\n",
    "a = \"pineapple\" # your code here\n",
    "print(a)"
   ]
  },
  {
   "cell_type": "code",
   "execution_count": 45,
   "metadata": {
    "colab": {
     "base_uri": "https://localhost:8080/"
    },
    "id": "eCNFSjIROnnB",
    "outputId": "d96f36b6-bd60-4d6c-9740-9847b98e6c57"
   },
   "outputs": [
    {
     "name": "stdout",
     "output_type": "stream",
     "text": [
      "pine\n",
      "apple\n"
     ]
    }
   ],
   "source": [
    "# Using index slicing, print the words ‘pine’ and “apple”.\n",
    "# HINT - a[:]\n",
    "print(a[0:4])\n",
    "print(a[4:9])"
   ]
  },
  {
   "cell_type": "code",
   "execution_count": 46,
   "metadata": {
    "colab": {
     "base_uri": "https://localhost:8080/",
     "height": 38
    },
    "id": "Z6881zT0OnnB",
    "outputId": "208250a0-1b76-40d7-8bb4-bec4e0e377bb"
   },
   "outputs": [
    {
     "name": "stdout",
     "output_type": "stream",
     "text": [
      "PINEAPPLE\n"
     ]
    }
   ],
   "source": [
    "#Convert a into upper case\n",
    "print(a.upper())"
   ]
  },
  {
   "cell_type": "markdown",
   "metadata": {
    "id": "mEw9dmM2OnnC"
   },
   "source": [
    "## Dealing with Sentences\n",
    "\n",
    "<p style='text-align: right;'> 1+1+1+1+1+1 = 6 points </p>\n"
   ]
  },
  {
   "cell_type": "code",
   "execution_count": 1,
   "metadata": {
    "colab": {
     "base_uri": "https://localhost:8080/"
    },
    "id": "O-eulzDKOnnC",
    "outputId": "66eb5489-a993-43d9-d5f7-0a2bba537f82"
   },
   "outputs": [
    {
     "name": "stdout",
     "output_type": "stream",
     "text": [
      "I am flying to London\n"
     ]
    }
   ],
   "source": [
    "# Declare a sentence of ‘I am flying to London’ and print it\n",
    "sentence = '''I am flying to London'''\n",
    "print(sentence)"
   ]
  },
  {
   "cell_type": "code",
   "execution_count": 3,
   "metadata": {
    "colab": {
     "base_uri": "https://localhost:8080/"
    },
    "id": "6YqhY71aOnnC",
    "outputId": "6de6d53f-a6c3-4038-d9be-60cf3907f372"
   },
   "outputs": [
    {
     "name": "stdout",
     "output_type": "stream",
     "text": [
      "length of the sentence 21\n"
     ]
    }
   ],
   "source": [
    "#Print length of the sentence\n",
    "print('length of the sentence {}'.format(len(sentence)))"
   ]
  },
  {
   "cell_type": "code",
   "execution_count": 8,
   "metadata": {
    "colab": {
     "base_uri": "https://localhost:8080/",
     "height": 38
    },
    "id": "ueh0avBIOnnC",
    "outputId": "e5eb183b-67bb-4836-9e6e-4be23aa9e376"
   },
   "outputs": [
    {
     "name": "stdout",
     "output_type": "stream",
     "text": [
      "London is at index 4\n"
     ]
    }
   ],
   "source": [
    "#Using list indexing, to print the word London\n",
    "words = sentence.split(\" \")\n",
    "values= [word for word in words]\n",
    "indexLondon = values.index(\"London\")\n",
    "print('{} is at index {}'.format(values[indexLondon],indexLondon))"
   ]
  },
  {
   "cell_type": "code",
   "execution_count": 10,
   "metadata": {
    "colab": {
     "base_uri": "https://localhost:8080/"
    },
    "id": "XxWpC9-pOnnC",
    "outputId": "6e4a9f0e-4256-487b-ff53-55d42cf83833"
   },
   "outputs": [
    {
     "name": "stdout",
     "output_type": "stream",
     "text": [
      "['I', 'am', 'flying', 'to', 'London']\n"
     ]
    }
   ],
   "source": [
    "# Use .split to get list of individual words in the sentence\n",
    "words = sentence.split(\" \")\n",
    "print(words)"
   ]
  },
  {
   "cell_type": "code",
   "execution_count": 11,
   "metadata": {
    "colab": {
     "base_uri": "https://localhost:8080/",
     "height": 38
    },
    "id": "cv-iS9BrOnnD",
    "outputId": "ad6c2830-5520-4bd9-93e5-d9e1b7b64580"
   },
   "outputs": [
    {
     "name": "stdout",
     "output_type": "stream",
     "text": [
      "i am flying to london\n"
     ]
    }
   ],
   "source": [
    "# Convert sentence in lower case \n",
    "print(sentence.lower())"
   ]
  },
  {
   "cell_type": "code",
   "execution_count": 12,
   "metadata": {
    "colab": {
     "base_uri": "https://localhost:8080/",
     "height": 38
    },
    "id": "Qv4XhFETOnnD",
    "outputId": "f1e36b6f-ae52-41c9-e1e6-5c2f36607e93"
   },
   "outputs": [
    {
     "name": "stdout",
     "output_type": "stream",
     "text": [
      "I AM FLYING TO LONDON\n"
     ]
    }
   ],
   "source": [
    "# Convert sentence in upper case .\n",
    "print(sentence.upper())"
   ]
  },
  {
   "cell_type": "markdown",
   "metadata": {
    "id": "Wz53Tr8YOnnD"
   },
   "source": [
    "Great job! Slicing is fun."
   ]
  },
  {
   "cell_type": "markdown",
   "metadata": {
    "id": "EpMEG_R3OnnE"
   },
   "source": [
    "## Functions\n",
    "\n",
    "Declare a function named square, which takes an input as x, and returns the square of x.\n",
    "\n",
    "<p style='text-align: right;'> 5 + 3 = 8 points </p>\n"
   ]
  },
  {
   "cell_type": "code",
   "execution_count": null,
   "metadata": {
    "colab": {
     "base_uri": "https://localhost:8080/",
     "height": 321
    },
    "id": "xrJ-Nmq7OnnE",
    "outputId": "08b3a556-6a58-4ea1-cff6-94bf6af3e707"
   },
   "outputs": [
    {
     "data": {
      "text/html": [
       "\n",
       "        <iframe\n",
       "            width=\"600\"\n",
       "            height=\"300\"\n",
       "            src=\"https://www.youtube.com/embed/https://www.youtube.com/watch?v=cjtAbp-Ux-w&list=PLsR_0x6BuM-HJZT6Xzj-088N4hN3KsDME&index=15\"\n",
       "            frameborder=\"0\"\n",
       "            allowfullscreen\n",
       "        ></iframe>\n",
       "        "
      ],
      "text/plain": [
       "<IPython.lib.display.YouTubeVideo at 0x7efe85178a50>"
      ]
     },
     "execution_count": 7,
     "metadata": {},
     "output_type": "execute_result"
    }
   ],
   "source": [
    "# Functions-1\n",
    "YouTubeVideo('https://www.youtube.com/watch?v=cjtAbp-Ux-w&list=PLsR_0x6BuM-HJZT6Xzj-088N4hN3KsDME&index=15',width=600,height=300)"
   ]
  },
  {
   "cell_type": "code",
   "execution_count": null,
   "metadata": {
    "colab": {
     "base_uri": "https://localhost:8080/",
     "height": 321
    },
    "id": "LPGhSZf_S9JU",
    "outputId": "e6f29551-c93c-45ed-d39d-1e8a9722aea9"
   },
   "outputs": [
    {
     "data": {
      "text/html": [
       "\n",
       "        <iframe\n",
       "            width=\"600\"\n",
       "            height=\"300\"\n",
       "            src=\"https://www.youtube.com/embed/https://www.youtube.com/watch?v=cjtAbp-Ux-w&list=PLsR_0x6BuM-HJZT6Xzj-088N4hN3KsDME&index=16\"\n",
       "            frameborder=\"0\"\n",
       "            allowfullscreen\n",
       "        ></iframe>\n",
       "        "
      ],
      "text/plain": [
       "<IPython.lib.display.YouTubeVideo at 0x7efe85182850>"
      ]
     },
     "execution_count": 8,
     "metadata": {},
     "output_type": "execute_result"
    }
   ],
   "source": [
    "# Function-2\n",
    "YouTubeVideo('https://www.youtube.com/watch?v=cjtAbp-Ux-w&list=PLsR_0x6BuM-HJZT6Xzj-088N4hN3KsDME&index=16',width=600,height=300)"
   ]
  },
  {
   "cell_type": "markdown",
   "metadata": {
    "id": "KX4y0IHVOnnE"
   },
   "source": [
    "Call the function to find the value of square of 9."
   ]
  },
  {
   "cell_type": "code",
   "execution_count": 16,
   "metadata": {
    "colab": {
     "base_uri": "https://localhost:8080/"
    },
    "id": "ms2A-A15OnnE",
    "outputId": "9ac75f3d-1267-40da-bf6b-067a7e5c8008"
   },
   "outputs": [
    {
     "name": "stdout",
     "output_type": "stream",
     "text": [
      "81.0\n"
     ]
    }
   ],
   "source": [
    "# find the square of 9 using the function square you have just created.\n",
    "import math\n",
    "def square(x):\n",
    "    x = math.pow(x,2)\n",
    "    return x\n",
    "    # find the square of 9 using the function square you have just created.\n",
    "print(square(9))"
   ]
  },
  {
   "cell_type": "markdown",
   "metadata": {
    "id": "ehBLnbH-OnnE"
   },
   "source": [
    "Wohoo! see, defining function was simple"
   ]
  },
  {
   "cell_type": "markdown",
   "metadata": {
    "id": "h01u89J0OnnF"
   },
   "source": [
    "#### Define another function which checks whether a given is number is odd or even for a given input and it should print whether the  number is odd or even as an output\n",
    "<p style='text-align: right;'> 5 + 3 = 8 points </p>\n"
   ]
  },
  {
   "cell_type": "code",
   "execution_count": 17,
   "metadata": {
    "colab": {
     "base_uri": "https://localhost:8080/"
    },
    "id": "MNVuqrmgOnnF",
    "outputId": "55b6972e-2d94-4915-99d4-75072ebcb7c6"
   },
   "outputs": [
    {
     "name": "stdout",
     "output_type": "stream",
     "text": [
      "11 is Odd\n"
     ]
    }
   ],
   "source": [
    "# your code here\n",
    "def checkEvenOdd(x):\n",
    "    if x%2 ==0:\n",
    "        return 'Even'\n",
    "    else:\n",
    "        return 'Odd'\n",
    "    \n",
    "var=11\n",
    "evenOdd = checkEvenOdd(var)\n",
    "print('{} is {}'.format(var,evenOdd))"
   ]
  },
  {
   "cell_type": "markdown",
   "metadata": {
    "id": "PH7VEP8eOnnF"
   },
   "source": [
    "Hey smarty! lets use both the functions together to check whether the square of 3,6 and 21 are odd or even.\n"
   ]
  },
  {
   "cell_type": "code",
   "execution_count": 19,
   "metadata": {
    "colab": {
     "base_uri": "https://localhost:8080/"
    },
    "id": "lhFMpKfHOnnF",
    "outputId": "6fc2329e-7202-4325-c9a3-0048bd047532"
   },
   "outputs": [
    {
     "name": "stdout",
     "output_type": "stream",
     "text": [
      "9.0 is Odd\n",
      "36.0 is Even\n",
      "441.0 is Odd\n"
     ]
    }
   ],
   "source": [
    " # your code here\n",
    "varList = [3,6,21]\n",
    "for num in varList:\n",
    "    print('{} is {}'.format(square(num),checkEvenOdd(square(num))))"
   ]
  },
  {
   "cell_type": "markdown",
   "metadata": {
    "id": "aSnw4vEHOnnF"
   },
   "source": [
    "hey hey! You did a great code. Did you see the benefit of using functions"
   ]
  },
  {
   "cell_type": "markdown",
   "metadata": {
    "id": "7TThdIkzOnnG"
   },
   "source": [
    "# Loops and Iterations"
   ]
  },
  {
   "cell_type": "markdown",
   "metadata": {
    "id": "MyKf8rF1OnnG"
   },
   "source": [
    "## If statement\n",
    "\n",
    "<p style='text-align: right;'> 1 + 2 + 3 = 6 points </p>\n"
   ]
  },
  {
   "cell_type": "code",
   "execution_count": null,
   "metadata": {
    "colab": {
     "base_uri": "https://localhost:8080/",
     "height": 321
    },
    "id": "8jLCzSQ9Tafb",
    "outputId": "1ab609ca-b776-458f-8cf7-8f1a4a6ff6a7"
   },
   "outputs": [
    {
     "data": {
      "text/html": [
       "\n",
       "        <iframe\n",
       "            width=\"600\"\n",
       "            height=\"300\"\n",
       "            src=\"https://www.youtube.com/embed/https://www.youtube.com/watch?v=CLqw5KZZ8Dg&list=PLsR_0x6BuM-HJZT6Xzj-088N4hN3KsDME&index=11\"\n",
       "            frameborder=\"0\"\n",
       "            allowfullscreen\n",
       "        ></iframe>\n",
       "        "
      ],
      "text/plain": [
       "<IPython.lib.display.YouTubeVideo at 0x7efe8518e810>"
      ]
     },
     "execution_count": 9,
     "metadata": {},
     "output_type": "execute_result"
    }
   ],
   "source": [
    "# conditions\n",
    "YouTubeVideo('https://www.youtube.com/watch?v=CLqw5KZZ8Dg&list=PLsR_0x6BuM-HJZT6Xzj-088N4hN3KsDME&index=11',width=600,height=300)"
   ]
  },
  {
   "cell_type": "code",
   "execution_count": 22,
   "metadata": {
    "colab": {
     "base_uri": "https://localhost:8080/"
    },
    "id": "3srU1iT1OnnG",
    "outputId": "132576fa-a12a-43d3-c28d-ad3b7c7fcdea"
   },
   "outputs": [
    {
     "name": "stdout",
     "output_type": "stream",
     "text": [
      "-9\n"
     ]
    }
   ],
   "source": [
    "#Declare a variable x equal to a number of your choice.\n",
    "#your code here\n",
    "x = -9 # add a number of your choice (mine is 3 :) )\n",
    "print(x)"
   ]
  },
  {
   "cell_type": "code",
   "execution_count": 23,
   "metadata": {
    "colab": {
     "base_uri": "https://localhost:8080/"
    },
    "id": "qjbO3dNLOnnH",
    "outputId": "3a8a02f3-18cb-4607-9970-094ae1075851"
   },
   "outputs": [
    {
     "name": "stdout",
     "output_type": "stream",
     "text": [
      "-9 is negative\n"
     ]
    }
   ],
   "source": [
    "#Using an if statement, print whether x is zero, positive or negative.\n",
    "if x ==0:\n",
    "    print('{} is zero'.format(x))\n",
    "elif x>0:\n",
    "    print('{} is positive'.format(x))\n",
    "else:\n",
    "    print('{} is negative'.format(x))"
   ]
  },
  {
   "cell_type": "code",
   "execution_count": 24,
   "metadata": {
    "colab": {
     "base_uri": "https://localhost:8080/"
    },
    "id": "Qje0Z0zLOnnH",
    "outputId": "c392c49e-c4b9-4fb1-b54a-8a8ea3f7e9d1"
   },
   "outputs": [
    {
     "name": "stdout",
     "output_type": "stream",
     "text": [
      "10 is positive\n",
      "-2 is negative\n",
      "0 is zero\n"
     ]
    }
   ],
   "source": [
    "# Now Define a function, which takes input from the user and prints whether the given input is zero,positive or negative.\n",
    "def check_num(x):\n",
    "    if x ==0:\n",
    "        print('{} is zero'.format(x))\n",
    "    elif x>0:\n",
    "        print('{} is positive'.format(x))\n",
    "    else:\n",
    "        print('{} is negative'.format(x))\n",
    "\n",
    "check_num(10)\n",
    "check_num(-2)\n",
    "check_num(0)"
   ]
  },
  {
   "cell_type": "markdown",
   "metadata": {
    "id": "8QnzejuHOnnH"
   },
   "source": [
    "## For loop"
   ]
  },
  {
   "cell_type": "markdown",
   "metadata": {
    "id": "Nh3IHYqNOnnH"
   },
   "source": [
    "<p style='text-align: right;'> 2 points </p>\n"
   ]
  },
  {
   "cell_type": "code",
   "execution_count": null,
   "metadata": {
    "colab": {
     "base_uri": "https://localhost:8080/",
     "height": 321
    },
    "id": "5iohidqhTzVZ",
    "outputId": "ba74b218-b345-472e-becc-65127610f5e7"
   },
   "outputs": [
    {
     "data": {
      "text/html": [
       "\n",
       "        <iframe\n",
       "            width=\"600\"\n",
       "            height=\"300\"\n",
       "            src=\"https://www.youtube.com/embed/https://www.youtube.com/watch?v=56-IOucIwAU&list=PLsR_0x6BuM-HJZT6Xzj-088N4hN3KsDME&index=12\"\n",
       "            frameborder=\"0\"\n",
       "            allowfullscreen\n",
       "        ></iframe>\n",
       "        "
      ],
      "text/plain": [
       "<IPython.lib.display.YouTubeVideo at 0x7efe85178090>"
      ]
     },
     "execution_count": 10,
     "metadata": {},
     "output_type": "execute_result"
    }
   ],
   "source": [
    "# Loops\n",
    "YouTubeVideo('https://www.youtube.com/watch?v=56-IOucIwAU&list=PLsR_0x6BuM-HJZT6Xzj-088N4hN3KsDME&index=12',width=600,height=300)"
   ]
  },
  {
   "cell_type": "code",
   "execution_count": 26,
   "metadata": {
    "colab": {
     "base_uri": "https://localhost:8080/"
    },
    "id": "50nOGOuqOnnI",
    "outputId": "b7e7b9db-08bd-4379-a831-7f63a77a4ae2"
   },
   "outputs": [
    {
     "name": "stdout",
     "output_type": "stream",
     "text": [
      "<class 'list'>\n",
      "['India', 'Israel', 'Canada']\n"
     ]
    }
   ],
   "source": [
    "#Create a list x, such that it contains the elements - ‘India’, ‘Israel’,’Canada’.\n",
    "x = ['India', 'Israel','Canada']\n",
    "print(type(x))\n",
    "print(x)"
   ]
  },
  {
   "cell_type": "code",
   "execution_count": 29,
   "metadata": {
    "colab": {
     "base_uri": "https://localhost:8080/"
    },
    "id": "VxfS6YKYOnnI",
    "outputId": "1e8438c0-9b08-451c-c5b3-5717741caf9a"
   },
   "outputs": [
    {
     "name": "stdout",
     "output_type": "stream",
     "text": [
      "India\n",
      "Israel\n",
      "Canada\n"
     ]
    }
   ],
   "source": [
    "#Using For loop, iterate over the list and print the elements.\n",
    "for country in x:\n",
    "        print(country)"
   ]
  },
  {
   "cell_type": "markdown",
   "metadata": {
    "id": "jz61jhLlOnnI"
   },
   "source": [
    "<p style='text-align: right;'> 2 points </p>\n"
   ]
  },
  {
   "cell_type": "code",
   "execution_count": 31,
   "metadata": {
    "colab": {
     "base_uri": "https://localhost:8080/"
    },
    "id": "mvqvf7OAOnnI",
    "outputId": "9c228334-1c19-46a5-e21f-9fd062ac213d"
   },
   "outputs": [
    {
     "name": "stdout",
     "output_type": "stream",
     "text": [
      "2*2 = 4\n",
      "2*3 = 6\n",
      "2*4 = 8\n",
      "2*5 = 10\n",
      "2*6 = 12\n",
      "2*7 = 14\n",
      "2*8 = 16\n",
      "2*9 = 18\n"
     ]
    }
   ],
   "source": [
    "# Using For loop, print the table of 2.\n",
    "for i in range(2,10):\n",
    "    print('2*{} = {}'.format(i,(2*i)))"
   ]
  },
  {
   "cell_type": "markdown",
   "metadata": {
    "id": "yg4SzR4oOnnI"
   },
   "source": [
    "For a given list, x = [21, ‘hello,’cream’, 20,19,’village’], using for loop to iterate over the items and using - if statement print the items that are of type int"
   ]
  },
  {
   "cell_type": "code",
   "execution_count": 36,
   "metadata": {
    "colab": {
     "base_uri": "https://localhost:8080/"
    },
    "id": "05SkQO3COnnJ",
    "outputId": "c4bbb3e7-b3db-4b58-981a-2776a62d28cb"
   },
   "outputs": [
    {
     "name": "stdout",
     "output_type": "stream",
     "text": [
      "21\n",
      "20\n",
      "19\n"
     ]
    }
   ],
   "source": [
    "#code here\n",
    "# hint: use if type(i) == int: condition to print variable which are of int type\n",
    "x = [21, 'hello','cream', 20,19,'village']\n",
    "for item in x:\n",
    "    if type(item)==int:\n",
    "        print(item)"
   ]
  },
  {
   "cell_type": "markdown",
   "metadata": {
    "id": "ab7bEu3xOnnJ"
   },
   "source": [
    "Using For loop, lets create a pattern. "
   ]
  },
  {
   "cell_type": "markdown",
   "metadata": {
    "id": "2KNZFi5zOnnJ"
   },
   "source": [
    "<p style='text-align: right;'> 10 points </p>\n"
   ]
  },
  {
   "cell_type": "code",
   "execution_count": 38,
   "metadata": {
    "colab": {
     "base_uri": "https://localhost:8080/"
    },
    "id": "kOZsmIiLOnnJ",
    "outputId": "ce9e2450-eb16-4987-959a-268d9efca100"
   },
   "outputs": [
    {
     "name": "stdout",
     "output_type": "stream",
     "text": [
      "*\n",
      "**\n",
      "***\n",
      "****\n",
      "*****\n"
     ]
    }
   ],
   "source": [
    "# print the following pattern\n",
    "for i in range(1,6):\n",
    "    print('*'*i)"
   ]
  },
  {
   "cell_type": "markdown",
   "metadata": {
    "id": "1WYgQq4AOnnJ"
   },
   "source": [
    "## While loop"
   ]
  },
  {
   "cell_type": "markdown",
   "metadata": {
    "id": "jyjME3nPOnnK"
   },
   "source": [
    "- Using while loop make a function that prints all the values between 1 to n. "
   ]
  },
  {
   "cell_type": "markdown",
   "metadata": {
    "id": "xbJ4Cz9gOnnK"
   },
   "source": [
    "<p style='text-align: right;'> 10 points </p>\n"
   ]
  },
  {
   "cell_type": "code",
   "execution_count": 39,
   "metadata": {
    "id": "2k9Aij8_OnnK"
   },
   "outputs": [],
   "source": [
    "def counter(n):\n",
    "# your code here\n",
    "    for i in range(1,n):\n",
    "        print(i)"
   ]
  },
  {
   "cell_type": "code",
   "execution_count": 40,
   "metadata": {
    "colab": {
     "base_uri": "https://localhost:8080/"
    },
    "id": "qd1VznT2OnnK",
    "outputId": "7cac2bee-0cb0-45c1-9c8a-cf994d083b25"
   },
   "outputs": [
    {
     "name": "stdout",
     "output_type": "stream",
     "text": [
      "1\n",
      "2\n",
      "3\n",
      "4\n",
      "5\n",
      "6\n",
      "7\n",
      "8\n",
      "9\n"
     ]
    }
   ],
   "source": [
    " counter(10) #this should print numbers from 1 to 10"
   ]
  },
  {
   "cell_type": "markdown",
   "metadata": {
    "id": "kKB5qVCxOnnL"
   },
   "source": [
    "### Write the code for the following, what is the output obtained?\n",
    "- Set a variable flag = True, num = 5\n",
    "- Run a while loop till flag = True\n",
    "- Inside the while loop - \n",
    "    - Increment the value of num by 5\n",
    "    - If value of num is greater then 50, set flag to be False"
   ]
  },
  {
   "cell_type": "code",
   "execution_count": 42,
   "metadata": {
    "colab": {
     "base_uri": "https://localhost:8080/"
    },
    "id": "RsCW8__JOnnM",
    "outputId": "980de4fb-c5af-4c5e-86de-2b48a3c3ad02"
   },
   "outputs": [
    {
     "name": "stdout",
     "output_type": "stream",
     "text": [
      "5\n",
      "10\n",
      "15\n",
      "20\n",
      "25\n",
      "30\n",
      "35\n",
      "40\n",
      "45\n",
      "50\n"
     ]
    }
   ],
   "source": [
    "# your code here\n",
    "flag = True\n",
    "num = 5\n",
    "while flag==True:\n",
    "    print(num)\n",
    "    num = num+5\n",
    "    if num>50:\n",
    "        flag=False\n"
   ]
  },
  {
   "cell_type": "markdown",
   "metadata": {
    "id": "sQxbS2kzOnnM"
   },
   "source": [
    "Awsesome! Great job so far. Hope you fell in love with python now."
   ]
  },
  {
   "cell_type": "markdown",
   "metadata": {
    "id": "zroTaOSLOnnN"
   },
   "source": [
    "----------------------------------------------------------------------"
   ]
  },
  {
   "cell_type": "markdown",
   "metadata": {
    "id": "4ibh00DQOnnN"
   },
   "source": [
    "# Smile, you completed the first milestone :)!! "
   ]
  },
  {
   "cell_type": "markdown",
   "metadata": {
    "id": "erddMO8yOnnN"
   },
   "source": [
    "# Its Feedback Time!\n",
    "\n",
    "We hope you’ve enjoyed this course so far. We’re committed to help you use \"AI for All\" course to its full potential, so that you have a great learning experience. And that’s why we need your help in form of a feedback here.\n",
    "\n",
    "**Please fill this feedback form**\n",
    " https://zfrmz.in/MtRG5oWXBdesm6rmSM7N\n",
    " \n",
    "-------------------------------------\n",
    " "
   ]
  }
 ],
 "metadata": {
  "colab": {
   "collapsed_sections": [],
   "name": "(Updated)Python_Basics_withLinks_noCode.ipynb",
   "provenance": []
  },
  "interpreter": {
   "hash": "fb2d3f2a20add04007a107bc483b4e625069f7acb60837d887d77da2f0eec5b6"
  },
  "kernelspec": {
   "display_name": "Python 3",
   "language": "python",
   "name": "python3"
  },
  "language_info": {
   "codemirror_mode": {
    "name": "ipython",
    "version": 3
   },
   "file_extension": ".py",
   "mimetype": "text/x-python",
   "name": "python",
   "nbconvert_exporter": "python",
   "pygments_lexer": "ipython3",
   "version": "3.8.8"
  }
 },
 "nbformat": 4,
 "nbformat_minor": 1
}
