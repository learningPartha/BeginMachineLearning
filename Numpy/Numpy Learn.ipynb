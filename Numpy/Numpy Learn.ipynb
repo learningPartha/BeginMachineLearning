{
 "cells": [
  {
   "cell_type": "code",
   "execution_count": 1,
   "id": "7d19a501",
   "metadata": {},
   "outputs": [
    {
     "name": "stdout",
     "output_type": "stream",
     "text": [
      "1\n"
     ]
    }
   ],
   "source": [
    "#import numpy and create 1 D numpy array\n",
    "import numpy as np\n",
    "oneDArray = np.array([1,2,3,4,5])\n",
    "print(oneDArray.ndim)"
   ]
  },
  {
   "cell_type": "code",
   "execution_count": 2,
   "id": "115b0b68",
   "metadata": {},
   "outputs": [
    {
     "name": "stdout",
     "output_type": "stream",
     "text": [
      "[[1 2 3]\n",
      " [4 5 6]]\n",
      "2\n"
     ]
    }
   ],
   "source": [
    "# create 2d array\n",
    "twoDArray = np.array([[1,2,3],[4,5,6]])\n",
    "print(twoDArray)\n",
    "#find dimension using ndim\n",
    "print(twoDArray.ndim)"
   ]
  },
  {
   "cell_type": "code",
   "execution_count": 3,
   "id": "28f498ea",
   "metadata": {},
   "outputs": [
    {
     "name": "stdout",
     "output_type": "stream",
     "text": [
      "[[[ 1  2  3]\n",
      "  [ 4  5  6]]\n",
      "\n",
      " [[-1 -2 -3]\n",
      "  [-4 -5 -6]]]\n",
      "3\n"
     ]
    }
   ],
   "source": [
    "#create 3d array\n",
    "threeDArray = np.array([[[1,2,3],[4,5,6]],[[-1,-2,-3],[-4,-5,-6]]])\n",
    "print(threeDArray)\n",
    "print(threeDArray.ndim)"
   ]
  },
  {
   "cell_type": "code",
   "execution_count": 5,
   "id": "132b9079",
   "metadata": {},
   "outputs": [
    {
     "name": "stdout",
     "output_type": "stream",
     "text": [
      "[4 5 6]\n",
      "[[-1 -2 -3]\n",
      " [-4 -5 -6]]\n"
     ]
    }
   ],
   "source": [
    "#index of numpy array\n",
    "#if we provide only one index it will find out the whole list in that position for \n",
    "#2d and whole array in that position for 3d array\n",
    "print(twoDArray[1])\n",
    "print(threeDArray[1])"
   ]
  },
  {
   "cell_type": "code",
   "execution_count": 7,
   "id": "8c5bddb5",
   "metadata": {},
   "outputs": [
    {
     "name": "stdout",
     "output_type": "stream",
     "text": [
      "6\n",
      "[-4 -5 -6]\n",
      "-6\n"
     ]
    }
   ],
   "source": [
    "#if we provide the second index it will find out the specific element in that position for \n",
    "#2d and the list in that position for 3d array\n",
    "print(twoDArray[1,2])\n",
    "print(threeDArray[1,1])\n",
    "#to get specific element in that position for 3d array use all 3 index\n",
    "print(threeDArray[1,1,2])"
   ]
  },
  {
   "cell_type": "code",
   "execution_count": 8,
   "id": "6a4fc26a",
   "metadata": {},
   "outputs": [
    {
     "name": "stdout",
     "output_type": "stream",
     "text": [
      "(2, 3)\n",
      "(2, 2, 3)\n"
     ]
    }
   ],
   "source": [
    "#find shape of array using shape\n",
    "print(twoDArray.shape)\n",
    "print(threeDArray.shape)"
   ]
  },
  {
   "cell_type": "code",
   "execution_count": 9,
   "id": "c390512d",
   "metadata": {},
   "outputs": [
    {
     "name": "stdout",
     "output_type": "stream",
     "text": [
      "1\n",
      "2\n",
      "3\n",
      "4\n",
      "5\n"
     ]
    }
   ],
   "source": [
    "#iterate over array\n",
    "# if it is 1D array, iterate similar to a list\n",
    "for i in oneDArray:\n",
    "    print(i)"
   ]
  },
  {
   "cell_type": "code",
   "execution_count": 10,
   "id": "96379589",
   "metadata": {},
   "outputs": [
    {
     "name": "stdout",
     "output_type": "stream",
     "text": [
      "[1 2 3]\n",
      "1\n",
      "2\n",
      "3\n",
      "[4 5 6]\n",
      "4\n",
      "5\n",
      "6\n"
     ]
    }
   ],
   "source": [
    "#if it is 2D array, you require nested loop\n",
    "#outer loop is for outer array, inner loop is for inner array, if you iterate only once\n",
    "#it will only 1D array element, you need to iterate again over these array elements to get specific\n",
    "#elements\n",
    "for i in twoDArray:\n",
    "    print(i)\n",
    "    for j in i:\n",
    "        print(j)"
   ]
  },
  {
   "cell_type": "code",
   "execution_count": 12,
   "id": "0da347e0",
   "metadata": {},
   "outputs": [
    {
     "name": "stdout",
     "output_type": "stream",
     "text": [
      "[[1 2 3]\n",
      " [4 5 6]]\n",
      "[1 2 3]\n",
      "1\n",
      "2\n",
      "3\n",
      "[4 5 6]\n",
      "4\n",
      "5\n",
      "6\n",
      "[[-1 -2 -3]\n",
      " [-4 -5 -6]]\n",
      "[-1 -2 -3]\n",
      "-1\n",
      "-2\n",
      "-3\n",
      "[-4 -5 -6]\n",
      "-4\n",
      "-5\n",
      "-6\n"
     ]
    }
   ],
   "source": [
    "# iterating over 3d array is similar to 2D array,iterate only once you will get the 2 D array\n",
    "#elements, if you iterate inside that , you will get 1D array elements, you need to iterate\n",
    "#once more to get specific elements\n",
    "for i in threeDArray:\n",
    "    print(i)\n",
    "    for j in i:\n",
    "        print(j)\n",
    "        for k in j:\n",
    "            print(k)"
   ]
  },
  {
   "cell_type": "code",
   "execution_count": null,
   "id": "10b3c871",
   "metadata": {},
   "outputs": [],
   "source": []
  }
 ],
 "metadata": {
  "kernelspec": {
   "display_name": "Python 3",
   "language": "python",
   "name": "python3"
  },
  "language_info": {
   "codemirror_mode": {
    "name": "ipython",
    "version": 3
   },
   "file_extension": ".py",
   "mimetype": "text/x-python",
   "name": "python",
   "nbconvert_exporter": "python",
   "pygments_lexer": "ipython3",
   "version": "3.8.8"
  }
 },
 "nbformat": 4,
 "nbformat_minor": 5
}
