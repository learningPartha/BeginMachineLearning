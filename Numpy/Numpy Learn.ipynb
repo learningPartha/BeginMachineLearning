{
 "cells": [
  {
   "cell_type": "code",
   "execution_count": 1,
   "id": "93dd0a7e",
   "metadata": {},
   "outputs": [
    {
     "name": "stdout",
     "output_type": "stream",
     "text": [
      "1\n"
     ]
    }
   ],
   "source": [
    "#import numpy and create 1 D numpy array\n",
    "import numpy as np\n",
    "oneDArray = np.array([1,2,3,4,5])\n",
    "print(oneDArray.ndim)"
   ]
  },
  {
   "cell_type": "code",
   "execution_count": 2,
   "id": "4cf053cf",
   "metadata": {},
   "outputs": [
    {
     "name": "stdout",
     "output_type": "stream",
     "text": [
      "[[1 2 3]\n",
      " [4 5 6]]\n",
      "2\n"
     ]
    }
   ],
   "source": [
    "# create 2d array\n",
    "twoDArray = np.array([[1,2,3],[4,5,6]])\n",
    "print(twoDArray)\n",
    "#find dimension using ndim\n",
    "print(twoDArray.ndim)"
   ]
  },
  {
   "cell_type": "code",
   "execution_count": 3,
   "id": "6882e8a8",
   "metadata": {},
   "outputs": [
    {
     "name": "stdout",
     "output_type": "stream",
     "text": [
      "[[[ 1  2  3]\n",
      "  [ 4  5  6]]\n",
      "\n",
      " [[-1 -2 -3]\n",
      "  [-4 -5 -6]]]\n",
      "3\n"
     ]
    }
   ],
   "source": [
    "#create 3d array\n",
    "threeDArray = np.array([[[1,2,3],[4,5,6]],[[-1,-2,-3],[-4,-5,-6]]])\n",
    "print(threeDArray)\n",
    "print(threeDArray.ndim)"
   ]
  },
  {
   "cell_type": "code",
   "execution_count": 5,
   "id": "715c32d4",
   "metadata": {},
   "outputs": [
    {
     "name": "stdout",
     "output_type": "stream",
     "text": [
      "[4 5 6]\n",
      "[[-1 -2 -3]\n",
      " [-4 -5 -6]]\n"
     ]
    }
   ],
   "source": [
    "#index of numpy array\n",
    "#if we provide only one index it will find out the whole list in that position for \n",
    "#2d and whole array in that position for 3d array\n",
    "print(twoDArray[1])\n",
    "print(threeDArray[1])"
   ]
  },
  {
   "cell_type": "code",
   "execution_count": 7,
   "id": "c64f8eee",
   "metadata": {},
   "outputs": [
    {
     "name": "stdout",
     "output_type": "stream",
     "text": [
      "6\n",
      "[-4 -5 -6]\n",
      "-6\n"
     ]
    }
   ],
   "source": [
    "#if we provide the second index it will find out the specific element in that position for \n",
    "#2d and the list in that position for 3d array\n",
    "print(twoDArray[1,2])\n",
    "print(threeDArray[1,1])\n",
    "#to get specific element in that position for 3d array use all 3 index\n",
    "print(threeDArray[1,1,2])"
   ]
  },
  {
   "cell_type": "code",
   "execution_count": 8,
   "id": "22710a0e",
   "metadata": {},
   "outputs": [
    {
     "name": "stdout",
     "output_type": "stream",
     "text": [
      "(2, 3)\n",
      "(2, 2, 3)\n"
     ]
    }
   ],
   "source": [
    "#find shape of array using shape\n",
    "print(twoDArray.shape)\n",
    "print(threeDArray.shape)"
   ]
  },
  {
   "cell_type": "code",
   "execution_count": 9,
   "id": "86756a43",
   "metadata": {},
   "outputs": [
    {
     "name": "stdout",
     "output_type": "stream",
     "text": [
      "1\n",
      "2\n",
      "3\n",
      "4\n",
      "5\n"
     ]
    }
   ],
   "source": [
    "#iterate over array\n",
    "# if it is 1D array, iterate similar to a list\n",
    "for i in oneDArray:\n",
    "    print(i)"
   ]
  },
  {
   "cell_type": "code",
   "execution_count": 10,
   "id": "524819e6",
   "metadata": {},
   "outputs": [
    {
     "name": "stdout",
     "output_type": "stream",
     "text": [
      "[1 2 3]\n",
      "1\n",
      "2\n",
      "3\n",
      "[4 5 6]\n",
      "4\n",
      "5\n",
      "6\n"
     ]
    }
   ],
   "source": [
    "#if it is 2D array, you require nested loop\n",
    "#outer loop is for outer array, inner loop is for inner array, if you iterate only once\n",
    "#it will only 1D array element, you need to iterate again over these array elements to get specific\n",
    "#elements\n",
    "for i in twoDArray:\n",
    "    print(i)\n",
    "    for j in i:\n",
    "        print(j)"
   ]
  },
  {
   "cell_type": "code",
   "execution_count": 12,
   "id": "066e0ec0",
   "metadata": {},
   "outputs": [
    {
     "name": "stdout",
     "output_type": "stream",
     "text": [
      "[[1 2 3]\n",
      " [4 5 6]]\n",
      "[1 2 3]\n",
      "1\n",
      "2\n",
      "3\n",
      "[4 5 6]\n",
      "4\n",
      "5\n",
      "6\n",
      "[[-1 -2 -3]\n",
      " [-4 -5 -6]]\n",
      "[-1 -2 -3]\n",
      "-1\n",
      "-2\n",
      "-3\n",
      "[-4 -5 -6]\n",
      "-4\n",
      "-5\n",
      "-6\n"
     ]
    }
   ],
   "source": [
    "# iterating over 3d array is similar to 2D array,iterate only once you will get the 2 D array\n",
    "#elements, if you iterate inside that , you will get 1D array elements, you need to iterate\n",
    "#once more to get specific elements\n",
    "for i in threeDArray:\n",
    "    print(i)\n",
    "    for j in i:\n",
    "        print(j)\n",
    "        for k in j:\n",
    "            print(k)"
   ]
  },
  {
   "cell_type": "code",
   "execution_count": 15,
   "id": "bd9e13e0",
   "metadata": {},
   "outputs": [
    {
     "name": "stdout",
     "output_type": "stream",
     "text": [
      "[ 0.  5. 10. 15. 20.]\n",
      "[20. 15. 10.  5.  0.]\n"
     ]
    }
   ],
   "source": [
    "#linear spaced vector\n",
    "# linspace() can be used to create linear space vector, where 1st argument gives starting \n",
    "#element, 2nd arg gives end element and 3rd arg gives step of change . Start and end element \n",
    "#gives direction of change whether it will increase or decrease\n",
    "#example, start with 0, increment by 5, end by 20\n",
    "vector = np.linspace(0,20,5)\n",
    "print(vector)\n",
    "#example, start with 20, decrease by 5, end by 0\n",
    "vector2 = np.linspace(20,0,5)\n",
    "print(vector2)"
   ]
  },
  {
   "cell_type": "code",
   "execution_count": 19,
   "id": "9fa8879e",
   "metadata": {},
   "outputs": [
    {
     "name": "stdout",
     "output_type": "stream",
     "text": [
      "[0. 0. 0. 0. 0. 0. 0. 0.]\n",
      "[0 0 0 0 0 0 0 0]\n",
      "[[[0 0]\n",
      "  [0 0]]\n",
      "\n",
      " [[0 0]\n",
      "  [0 0]]]\n"
     ]
    }
   ],
   "source": [
    "#reshape\n",
    "# you can use reshape() to change linear array to a 3D array\n",
    "# numpy allow creating array with element value 0, need to mention number of elements in\n",
    "#argument\n",
    "zeroLinearArray = np.zeros(8) \n",
    "print(zeroLinearArray)\n",
    "#you can also mention shape, element type and order in argument\n",
    "zeroLinearArray = np.zeros(8, dtype=int, order='C')\n",
    "print(zeroLinearArray)\n",
    "# based on which type of array you want to reshape into, mention the dimension\n",
    "#keep in mind the element and dimension should match, for example here we are creating\n",
    "#2 x 2 x 2 array, we need to have 8 elements\n",
    "arr3D = zeroLinearArray.reshape((2,2,2))\n",
    "print(arr3D)"
   ]
  },
  {
   "cell_type": "code",
   "execution_count": 20,
   "id": "d62b21cc",
   "metadata": {},
   "outputs": [
    {
     "name": "stdout",
     "output_type": "stream",
     "text": [
      "[0 0 0 0 0 0 0 0]\n"
     ]
    }
   ],
   "source": [
    "#ravel\n",
    "# you can use ravel to flatten 3D array to linear array\n",
    "arrFlat = arr3D.ravel()\n",
    "print(arrFlat)"
   ]
  },
  {
   "cell_type": "code",
   "execution_count": 22,
   "id": "564adb02",
   "metadata": {},
   "outputs": [
    {
     "name": "stdout",
     "output_type": "stream",
     "text": [
      "[ 0  1  2  3  4  5  6  7  8  9 10 11 12 13 14 15 16 17 18 19]\n",
      "[ 2  3  4  5  6  7  8  9 10 11 12 13 14 15 16 17 18 19]\n",
      "[ 0  1  2  3  4  5  6  7  8  9 10 11 12 13 14]\n"
     ]
    }
   ],
   "source": [
    "#slicing\n",
    "#if you mention the first index, it will get element from that index upto last\n",
    "#if you mention ending index, it will get element from first upto that index\n",
    "arr = np.arange(20) # this will create an array from 0 to 20,\n",
    "print(arr)\n",
    "print(arr[2:]) #print all elements starting from index 2\n",
    "print(arr[:15])#print all elements till index less than 15"
   ]
  },
  {
   "cell_type": "code",
   "execution_count": 35,
   "id": "c6ad6755",
   "metadata": {},
   "outputs": [
    {
     "name": "stdout",
     "output_type": "stream",
     "text": [
      "[[1 2 3]\n",
      " [3 4 5]\n",
      " [4 5 6]]\n",
      "[[3 4 5]\n",
      " [4 5 6]]\n",
      "[2 4 5]\n",
      "[3 4 5]\n",
      "[[2 3]\n",
      " [4 5]\n",
      " [5 6]]\n"
     ]
    }
   ],
   "source": [
    "# extract specific rows and columns\n",
    "arr = np.array([[1,2,3],[3,4,5],[4,5,6]])\n",
    "print(arr)\n",
    "# slice items starting from index\n",
    "print (arr[1:])\n",
    "# this returns array of items in the second column  \n",
    "print (arr[:,1])\n",
    "# Now we will slice all items from the second row \n",
    "print (arr[1,:])   \n",
    "# Now we will slice all items from column 1 onwards \n",
    "print (arr[:,1:])"
   ]
  },
  {
   "cell_type": "code",
   "execution_count": 31,
   "id": "b3e08134",
   "metadata": {},
   "outputs": [
    {
     "name": "stdout",
     "output_type": "stream",
     "text": [
      "[[1 2 3]\n",
      " [3 4 5]\n",
      " [1 4 5]]\n"
     ]
    }
   ],
   "source": [
    "#sort\n",
    "# use np.sort() to sort array\n",
    "arr = np.array([[1,3,2],[4,3,5],[4,5,1]])\n",
    "print(np.sort(arr))"
   ]
  },
  {
   "cell_type": "code",
   "execution_count": 33,
   "id": "f736e5c8",
   "metadata": {},
   "outputs": [
    {
     "name": "stdout",
     "output_type": "stream",
     "text": [
      "[[1 3 1]\n",
      " [4 3 2]\n",
      " [4 5 5]]\n",
      "[[1 2 3]\n",
      " [3 4 5]\n",
      " [1 4 5]]\n"
     ]
    }
   ],
   "source": [
    "# if you need to sort on axis 0\n",
    "arr = np.array([[1,3,2],[4,3,5],[4,5,1]])\n",
    "print (np.sort(arr, axis = 0))\n",
    "# if you need to sort on axis 1\n",
    "arr = np.array([[1,3,2],[4,3,5],[4,5,1]])\n",
    "print (np.sort(arr, axis = 1))"
   ]
  },
  {
   "cell_type": "code",
   "execution_count": 36,
   "id": "4eae24a4",
   "metadata": {},
   "outputs": [
    {
     "name": "stdout",
     "output_type": "stream",
     "text": [
      "[10 11 12 13 14 15 16 17 18]\n",
      "[10 11 13 14 16 17 18]\n"
     ]
    }
   ],
   "source": [
    "#delete\n",
    "arr= np.arange(10,19)\n",
    "print (arr)\n",
    "#delete array based on index\n",
    "arr= np.delete (arr, [2,5])\n",
    "print (arr)"
   ]
  },
  {
   "cell_type": "code",
   "execution_count": null,
   "id": "ffbb5661",
   "metadata": {},
   "outputs": [],
   "source": []
  }
 ],
 "metadata": {
  "kernelspec": {
   "display_name": "Python 3",
   "language": "python",
   "name": "python3"
  },
  "language_info": {
   "codemirror_mode": {
    "name": "ipython",
    "version": 3
   },
   "file_extension": ".py",
   "mimetype": "text/x-python",
   "name": "python",
   "nbconvert_exporter": "python",
   "pygments_lexer": "ipython3",
   "version": "3.8.8"
  }
 },
 "nbformat": 4,
 "nbformat_minor": 5
}
